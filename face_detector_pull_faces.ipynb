{
  "nbformat": 4,
  "nbformat_minor": 0,
  "metadata": {
    "colab": {
      "name": "face detector_pull faces.ipynb",
      "provenance": [],
      "collapsed_sections": []
    },
    "kernelspec": {
      "name": "python3",
      "display_name": "Python 3"
    }
  },
  "cells": [
    {
      "cell_type": "markdown",
      "metadata": {
        "id": "sEojz6yr4lBF",
        "colab_type": "text"
      },
      "source": [
        "## ***Pull faces from an image***"
      ]
    },
    {
      "cell_type": "markdown",
      "metadata": {
        "id": "09iLGFBXSCtz",
        "colab_type": "text"
      },
      "source": [
        "<br/>\n",
        "\n",
        "*This example program shows how to find frontal human faces in an image. In particular, it shows how you can take a list of images from the command\n",
        "line and display each on the screen with red boxes overlaid on each human face.*\n",
        "<br/>\n",
        "<br/>"
      ]
    },
    {
      "cell_type": "code",
      "metadata": {
        "id": "ETnZ0YB-QxJa",
        "colab_type": "code",
        "colab": {
          "base_uri": "https://localhost:8080/",
          "height": 124
        },
        "outputId": "c8288d36-44d4-4da2-be7c-fce808a8350f"
      },
      "source": [
        "! git clone https://github.com/ArupDutta/face_detector_pull_faces_from_image"
      ],
      "execution_count": 1,
      "outputs": [
        {
          "output_type": "stream",
          "text": [
            "Cloning into 'face_detector_pull_faces_from_image'...\n",
            "remote: Enumerating objects: 32, done.\u001b[K\n",
            "remote: Counting objects:   3% (1/32)\u001b[K\rremote: Counting objects:   6% (2/32)\u001b[K\rremote: Counting objects:   9% (3/32)\u001b[K\rremote: Counting objects:  12% (4/32)\u001b[K\rremote: Counting objects:  15% (5/32)\u001b[K\rremote: Counting objects:  18% (6/32)\u001b[K\rremote: Counting objects:  21% (7/32)\u001b[K\rremote: Counting objects:  25% (8/32)\u001b[K\rremote: Counting objects:  28% (9/32)\u001b[K\rremote: Counting objects:  31% (10/32)\u001b[K\rremote: Counting objects:  34% (11/32)\u001b[K\rremote: Counting objects:  37% (12/32)\u001b[K\rremote: Counting objects:  40% (13/32)\u001b[K\rremote: Counting objects:  43% (14/32)\u001b[K\rremote: Counting objects:  46% (15/32)\u001b[K\rremote: Counting objects:  50% (16/32)\u001b[K\rremote: Counting objects:  53% (17/32)\u001b[K\rremote: Counting objects:  56% (18/32)\u001b[K\rremote: Counting objects:  59% (19/32)\u001b[K\rremote: Counting objects:  62% (20/32)\u001b[K\rremote: Counting objects:  65% (21/32)\u001b[K\rremote: Counting objects:  68% (22/32)\u001b[K\rremote: Counting objects:  71% (23/32)\u001b[K\rremote: Counting objects:  75% (24/32)\u001b[K\rremote: Counting objects:  78% (25/32)\u001b[K\rremote: Counting objects:  81% (26/32)\u001b[K\rremote: Counting objects:  84% (27/32)\u001b[K\rremote: Counting objects:  87% (28/32)\u001b[K\rremote: Counting objects:  90% (29/32)\u001b[K\rremote: Counting objects:  93% (30/32)\u001b[K\rremote: Counting objects:  96% (31/32)\u001b[K\rremote: Counting objects: 100% (32/32)\u001b[K\rremote: Counting objects: 100% (32/32), done.\u001b[K\n",
            "remote: Compressing objects:   3% (1/27)\u001b[K\rremote: Compressing objects:   7% (2/27)\u001b[K\rremote: Compressing objects:  11% (3/27)\u001b[K\rremote: Compressing objects:  14% (4/27)\u001b[K\rremote: Compressing objects:  18% (5/27)\u001b[K\rremote: Compressing objects:  22% (6/27)\u001b[K\rremote: Compressing objects:  25% (7/27)\u001b[K\rremote: Compressing objects:  29% (8/27)\u001b[K\rremote: Compressing objects:  33% (9/27)\u001b[K\rremote: Compressing objects:  37% (10/27)\u001b[K\rremote: Compressing objects:  40% (11/27)\u001b[K\rremote: Compressing objects:  44% (12/27)\u001b[K\rremote: Compressing objects:  48% (13/27)\u001b[K\rremote: Compressing objects:  51% (14/27)\u001b[K\rremote: Compressing objects:  55% (15/27)\u001b[K\rremote: Compressing objects:  59% (16/27)\u001b[K\rremote: Compressing objects:  62% (17/27)\u001b[K\rremote: Compressing objects:  66% (18/27)\u001b[K\rremote: Compressing objects:  70% (19/27)\u001b[K\rremote: Compressing objects:  74% (20/27)\u001b[K\rremote: Compressing objects:  77% (21/27)\u001b[K\rremote: Compressing objects:  81% (22/27)\u001b[K\rremote: Compressing objects:  85% (23/27)\u001b[K\rremote: Compressing objects:  88% (24/27)\u001b[K\rremote: Compressing objects:  92% (25/27)\u001b[K\rremote: Compressing objects:  96% (26/27)\u001b[K\rremote: Compressing objects: 100% (27/27)\u001b[K\rremote: Compressing objects: 100% (27/27), done.\u001b[K\n",
            "Unpacking objects:   3% (1/32)   \rUnpacking objects:   6% (2/32)   \rUnpacking objects:   9% (3/32)   \rUnpacking objects:  12% (4/32)   \rUnpacking objects:  15% (5/32)   \rUnpacking objects:  18% (6/32)   \rUnpacking objects:  21% (7/32)   \rUnpacking objects:  25% (8/32)   \rUnpacking objects:  28% (9/32)   \rUnpacking objects:  31% (10/32)   \rUnpacking objects:  34% (11/32)   \rUnpacking objects:  37% (12/32)   \rUnpacking objects:  40% (13/32)   \rUnpacking objects:  43% (14/32)   \rUnpacking objects:  46% (15/32)   \rUnpacking objects:  50% (16/32)   \rremote: Total 32 (delta 6), reused 0 (delta 0), pack-reused 0\u001b[K\n",
            "Unpacking objects:  53% (17/32)   \rUnpacking objects:  56% (18/32)   \rUnpacking objects:  59% (19/32)   \rUnpacking objects:  62% (20/32)   \rUnpacking objects:  65% (21/32)   \rUnpacking objects:  68% (22/32)   \rUnpacking objects:  71% (23/32)   \rUnpacking objects:  75% (24/32)   \rUnpacking objects:  78% (25/32)   \rUnpacking objects:  81% (26/32)   \rUnpacking objects:  84% (27/32)   \rUnpacking objects:  87% (28/32)   \rUnpacking objects:  90% (29/32)   \rUnpacking objects:  93% (30/32)   \rUnpacking objects:  96% (31/32)   \rUnpacking objects: 100% (32/32)   \rUnpacking objects: 100% (32/32), done.\n"
          ],
          "name": "stdout"
        }
      ]
    },
    {
      "cell_type": "code",
      "metadata": {
        "id": "5egm338Z4Ubr",
        "colab_type": "code",
        "colab": {}
      },
      "source": [
        "from PIL import Image\n",
        "from PIL import ImageFile\n",
        "import numpy as np\n",
        "import random\n",
        "import dlib\n",
        "import os\n",
        "\n",
        "import matplotlib.pyplot as plt"
      ],
      "execution_count": 2,
      "outputs": []
    },
    {
      "cell_type": "markdown",
      "metadata": {
        "id": "FC8_sEo00_B6",
        "colab_type": "text"
      },
      "source": [
        "*The face detector is made using the now classic Histogram of Oriented Gradients (HOG) feature combined with a linear classifier, an image\n",
        "pyramid, and sliding window detection scheme. This type of object detector is fairly general and capable of detecting many types of semi-rigid \n",
        "objects in addition to human faces.*"
      ]
    },
    {
      "cell_type": "code",
      "metadata": {
        "id": "UFcg-nLa0cFr",
        "colab_type": "code",
        "colab": {}
      },
      "source": [
        "detector = dlib.get_frontal_face_detector()"
      ],
      "execution_count": 3,
      "outputs": []
    },
    {
      "cell_type": "markdown",
      "metadata": {
        "id": "6Ccf_YzOGb5t",
        "colab_type": "text"
      },
      "source": [
        "*loop through the detector object (faces) to get each face locations or dimensions. Return a list with face dimensions*"
      ]
    },
    {
      "cell_type": "code",
      "metadata": {
        "id": "53DD0mWn3_pe",
        "colab_type": "code",
        "colab": {}
      },
      "source": [
        "def get_img_locations(dets):\n",
        "  img_lst=[]\n",
        "\n",
        "  for i, d in enumerate(dets):\n",
        "    print(\"Detection {}: Left: {} Top: {} Right: {} Bottom: {}\".format(i, d.left(), d.top(), d.right(), d.bottom()))\n",
        "    dim = (d.left(), d.top(), d.right(), d.bottom())\n",
        "    img_lst.append(dim)\n",
        "  \n",
        "  return img_lst"
      ],
      "execution_count": 4,
      "outputs": []
    },
    {
      "cell_type": "markdown",
      "metadata": {
        "id": "Odya7ow1HD4r",
        "colab_type": "text"
      },
      "source": [
        "*Return an image pil object from its dimensions*"
      ]
    },
    {
      "cell_type": "code",
      "metadata": {
        "id": "DL5DGEMY3L7J",
        "colab_type": "code",
        "colab": {}
      },
      "source": [
        "def construct_image(img_loc, img_arr):\n",
        "\n",
        "  left, top, right, bottom = img_loc\n",
        "  face_image = img_arr[top:bottom, left:right]\n",
        "  pil_img = Image.fromarray(face_image)\n",
        "  \n",
        "  return pil_img\n"
      ],
      "execution_count": 5,
      "outputs": []
    },
    {
      "cell_type": "markdown",
      "metadata": {
        "id": "1c5W1G_yHXic",
        "colab_type": "text"
      },
      "source": [
        "*Loop through each image from folder, detects faces, save into another folder*"
      ]
    },
    {
      "cell_type": "code",
      "metadata": {
        "id": "lgf2ziQS0FFn",
        "colab_type": "code",
        "colab": {}
      },
      "source": [
        "img_path = \"./face_detector_pull_faces_from_image/img/\"\n",
        "i=0\n",
        "for file in os.listdir(img_path):\n",
        "  print(\"Processing file: {}\".format(file))\n",
        "\n",
        "  #img_arr = dlib.load_rgb_image(img_path + file)\n",
        "  im = Image.open(img_path + file)\n",
        "  img_arr = np.asarray(im)\n",
        "  \n",
        "  dets = detector(img_arr, 1)\n",
        "  print(\"Number of faces detected: {}\".format(len(dets)))\n",
        "\n",
        "  image_locations = get_img_locations(dets)\n",
        "  print(image_locations)\n",
        "\n",
        "  j=0\n",
        "  for img_loc in image_locations:\n",
        "    pil_img=construct_image(img_loc,img_arr)\n",
        "    plt.imshow(pil_img)\n",
        "    plt.show()\n",
        "\n",
        "    pil_img.save('./face_detector_pull_faces_from_image/pulled_img/' + 'file'+ str(j) + str(j) + '.jpg')\n",
        "    j=j+1\n",
        "\n",
        "  i=i+1"
      ],
      "execution_count": null,
      "outputs": []
    }
  ]
}